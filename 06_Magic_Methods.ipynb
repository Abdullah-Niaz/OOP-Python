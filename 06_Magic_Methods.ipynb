{
 "cells": [
  {
   "cell_type": "markdown",
   "metadata": {},
   "source": [
    "## Magic Methods\n",
    "Magic methoss in Python, also known as dunder methods (double underscore methods), are special methods that start and end with double underscores. These methods enable you to define the behavious of objects for built in operations, such as arithmetic operations comparisons, and more.\n",
    "\n",
    "Magic Methods are predefined methods in Python that you can override to change the behaviour of your objects. Some common magic methods include:\n",
    "\n",
    "- `__init__`: Initializes an object\n",
    "- `__str__`: Returns a string representation of an object\n",
    "- `__repr__`: Returns a string representation of an object that is useful for debugging\n",
    "- `__add__`: Defines the behaviour of the `+` operator\n",
    "- `__sub__`: Defines the behaviour of the `-` operator"
   ]
  },
  {
   "cell_type": "code",
   "execution_count": 1,
   "metadata": {},
   "outputs": [
    {
     "name": "stdout",
     "output_type": "stream",
     "text": [
      "<__main__.Person object at 0x00000192CA566930>\n"
     ]
    }
   ],
   "source": [
    "class Person:\n",
    "    def __init__(self,name,age):\n",
    "        self.name=name\n",
    "        self.age=age\n",
    "    \n",
    "p = Person(\"omer\",20)\n",
    "print(p)"
   ]
  },
  {
   "cell_type": "code",
   "execution_count": 2,
   "metadata": {},
   "outputs": [
    {
     "name": "stdout",
     "output_type": "stream",
     "text": [
      "omer, 20 years of age\n"
     ]
    }
   ],
   "source": [
    "class Person:\n",
    "    def __init__(self, name, age):\n",
    "        self.name = name\n",
    "        self.age = age\n",
    "\n",
    "    def __str__(self) -> str:\n",
    "        return f\"{self.name}, {self.age} years of age\"\n",
    "\n",
    "p = Person(\"omer\", 20)\n",
    "print(p)"
   ]
  }
 ],
 "metadata": {
  "kernelspec": {
   "display_name": "Python 3",
   "language": "python",
   "name": "python3"
  },
  "language_info": {
   "codemirror_mode": {
    "name": "ipython",
    "version": 3
   },
   "file_extension": ".py",
   "mimetype": "text/x-python",
   "name": "python",
   "nbconvert_exporter": "python",
   "pygments_lexer": "ipython3",
   "version": "3.12.2"
  }
 },
 "nbformat": 4,
 "nbformat_minor": 2
}
