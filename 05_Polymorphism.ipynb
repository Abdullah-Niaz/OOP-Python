{
 "cells": [
  {
   "cell_type": "markdown",
   "metadata": {},
   "source": [
    "# Polymophism\n",
    "\n",
    "Polymorphism is a core concept in OOP that allows objects of different forms. Polymorphims is typically achieved through method overrriding and interfaces"
   ]
  },
  {
   "cell_type": "markdown",
   "metadata": {},
   "source": [
    "### Method Overriding \n",
    "Method overriding allows a child class to provide a specific implementation of a method that is already defined in it's parent class."
   ]
  },
  {
   "cell_type": "code",
   "execution_count": 5,
   "metadata": {},
   "outputs": [
    {
     "name": "stdout",
     "output_type": "stream",
     "text": [
      "Wooow\n",
      "Meow\n",
      "Wooow\n",
      "Meow\n"
     ]
    }
   ],
   "source": [
    "# Base Class\n",
    "class Animal:\n",
    "    def speak(self):\n",
    "        return \"Sound of the Animal\"\n",
    "\n",
    "# Derived Class\n",
    "\n",
    "\n",
    "class Dog(Animal):\n",
    "    def speak(self):\n",
    "        return \"Wooow\"\n",
    "\n",
    "# Derived Class\n",
    "\n",
    "\n",
    "class Cat(Animal):\n",
    "    def speak(self):\n",
    "        return \"Meow\"\n",
    "\n",
    "\n",
    "def animal_speak(animal):\n",
    "    return animal.speak()\n",
    "\n",
    "\n",
    "d = Dog()\n",
    "print(d.speak())\n",
    "\n",
    "c = Cat()\n",
    "print(c.speak())\n",
    "\n",
    "print(animal_speak(d))\n",
    "print(animal_speak(c))"
   ]
  },
  {
   "cell_type": "code",
   "execution_count": 7,
   "metadata": {},
   "outputs": [
    {
     "name": "stdout",
     "output_type": "stream",
     "text": [
      "The are is 6\n",
      "The are is 12.56\n"
     ]
    }
   ],
   "source": [
    "class Shape:\n",
    "    def area(self):\n",
    "        return \"The area of the figure\"\n",
    "    \n",
    "class Rectange(Shape):\n",
    "    def __init__(self, width, height):\n",
    "        self.width = width\n",
    "        self.height = height\n",
    "\n",
    "    def area(self):\n",
    "        return self.width * self.height\n",
    "    \n",
    "class Circle(Shape):\n",
    "    def __init__(self, radius):\n",
    "        self.radius = radius\n",
    "    \n",
    "    def area(self):\n",
    "        return 3.14 * self.radius ** 2\n",
    "    \n",
    "# Fucntion to demonstrates the polymorphism\n",
    "\n",
    "def print_area(shape):\n",
    "    print(f\"The are is {shape.area()}\")\n",
    "\n",
    "\n",
    "rectange = Rectange(2,3)\n",
    "circle = Circle(2)\n",
    "print_area(rectange)\n",
    "print_area(circle)"
   ]
  }
 ],
 "metadata": {
  "kernelspec": {
   "display_name": "Python 3",
   "language": "python",
   "name": "python3"
  },
  "language_info": {
   "codemirror_mode": {
    "name": "ipython",
    "version": 3
   },
   "file_extension": ".py",
   "mimetype": "text/x-python",
   "name": "python",
   "nbconvert_exporter": "python",
   "pygments_lexer": "ipython3",
   "version": "3.12.2"
  }
 },
 "nbformat": 4,
 "nbformat_minor": 2
}
