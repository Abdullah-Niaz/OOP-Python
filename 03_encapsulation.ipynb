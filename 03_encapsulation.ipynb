{
 "cells": [
  {
   "cell_type": "markdown",
   "metadata": {},
   "source": [
    "# Encapsulation\n",
    "Encapsulation is the concept of wrapping data(variables) and methods (fucntions) together as single unit. It restricts directs access to soem of the object's components, which is a means of preventing accidental interference and misuse of the data."
   ]
  },
  {
   "cell_type": "code",
   "execution_count": 7,
   "metadata": {},
   "outputs": [
    {
     "data": {
      "text/plain": [
       "'Omer'"
      ]
     },
     "execution_count": 7,
     "metadata": {},
     "output_type": "execute_result"
    }
   ],
   "source": [
    "### Ecapsulation with Getters and Setters Methods\n",
    "### Access modifiers:\n",
    "#           Public private, Projected\n",
    "\n",
    "class Person:\n",
    "    def __init__(self, name, age):\n",
    "        # Public instance variable\n",
    "        self.name = name\n",
    "        self.age = age\n",
    "\n",
    "# Accessible outsite the class  \n",
    "def get_name(person):\n",
    "    return person.name\n",
    "\n",
    "person = Person(\"Omer\",20)\n",
    "person.name\n",
    "get_name(person)"
   ]
  },
  {
   "cell_type": "code",
   "execution_count": 19,
   "metadata": {},
   "outputs": [
    {
     "data": {
      "text/plain": [
       "'Omer'"
      ]
     },
     "execution_count": 19,
     "metadata": {},
     "output_type": "execute_result"
    }
   ],
   "source": [
    "\n",
    "class Person:\n",
    "    def __init__(self, name, age):\n",
    "        # Private instance variable\n",
    "        self.__name = name\n",
    "        self.__age = age\n",
    "\n",
    "# way of accessing the private instance variables\n",
    "def get_name(person):\n",
    "    return person._Person__name\n",
    "\n",
    "person = Person(\"Omer\", 20)\n",
    "get_name(person)"
   ]
  },
  {
   "cell_type": "code",
   "execution_count": 27,
   "metadata": {},
   "outputs": [
    {
     "data": {
      "text/plain": [
       "'Omer'"
      ]
     },
     "execution_count": 27,
     "metadata": {},
     "output_type": "execute_result"
    }
   ],
   "source": [
    "class Person:\n",
    "    def __init__(self, name, age):\n",
    "        # Protected instance variable\n",
    "        self._name = name\n",
    "        self._age = age\n",
    "\n",
    "# way of accessing the Protected instance variables\n",
    "class Emp(Person):\n",
    "    def __init__(self, name, age):\n",
    "        super().__init__(name, age)\n",
    "\n",
    "person = Emp(\"Omer\", 20)\n",
    "person._name"
   ]
  },
  {
   "cell_type": "code",
   "execution_count": 39,
   "metadata": {},
   "outputs": [
    {
     "name": "stdout",
     "output_type": "stream",
     "text": [
      "Ome Ali\n",
      "Age Cann't be Negative\n",
      "20\n"
     ]
    }
   ],
   "source": [
    "# Ecapsulation with Getter and Setter\n",
    "\n",
    "class Person:\n",
    "    def __init__(self, name, age):\n",
    "        self.__name = name\n",
    "        self.__age = age\n",
    "    \n",
    "    # Getter Method\n",
    "    def get_name(self):\n",
    "        return self.__name\n",
    "    \n",
    "    # Setter Method\n",
    "    def set_name(self, name):\n",
    "        self.__name = name\n",
    "\n",
    "    \n",
    "    def get_age(self):\n",
    "        return self.__age\n",
    "    \n",
    "    def set_age(self,age):\n",
    "        if age > 0:\n",
    "            self.__age = age\n",
    "        else:\n",
    "            print(\"Age Cann't be Negative\")\n",
    "\n",
    "person = Person(\"Omer\",20)\n",
    "person.set_name(\"Omer Ali\")\n",
    "print(person.get_name())\n",
    "person.set_age(-20)\n",
    "print(person.get_age())"
   ]
  }
 ],
 "metadata": {
  "kernelspec": {
   "display_name": "Python 3",
   "language": "python",
   "name": "python3"
  },
  "language_info": {
   "codemirror_mode": {
    "name": "ipython",
    "version": 3
   },
   "file_extension": ".py",
   "mimetype": "text/x-python",
   "name": "python",
   "nbconvert_exporter": "python",
   "pygments_lexer": "ipython3",
   "version": "3.12.2"
  }
 },
 "nbformat": 4,
 "nbformat_minor": 2
}
