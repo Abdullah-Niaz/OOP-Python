{
 "cells": [
  {
   "cell_type": "markdown",
   "metadata": {},
   "source": [
    "# Abstraction:\n",
    "Abstraction is the concept of hiding the complex implementation details and showing only the necessary features of an object. This helps in reduing programming complexity and efforts"
   ]
  },
  {
   "cell_type": "code",
   "execution_count": 6,
   "metadata": {},
   "outputs": [
    {
     "name": "stdout",
     "output_type": "stream",
     "text": [
      "I have 3 sides\n",
      "I have 4 sides\n",
      "I have 5 sides\n",
      "I have 8 sides\n"
     ]
    }
   ],
   "source": [
    "from abc import ABC, abstractmethod\n",
    "\n",
    "\n",
    "class Polygon(ABC):\n",
    "    @abstractmethod\n",
    "    def noofsides(self):\n",
    "        pass\n",
    "\n",
    "\n",
    "class Triangle(Polygon):\n",
    "    # Overriding the abstract method\n",
    "    def noofsides(self):\n",
    "        print(\"I have 3 sides\")\n",
    "\n",
    "\n",
    "class Pentagon(Polygon):\n",
    "    # Overriding the abstract method\n",
    "    def noofsides(self):\n",
    "        print(\"I have 5 sides\")\n",
    "\n",
    "\n",
    "class Hexagon(Polygon):\n",
    "    # Overriding the abstract method\n",
    "    def noofsides(self):\n",
    "        print(\"I have 8 sides\")\n",
    "\n",
    "\n",
    "class Quadrilateral(Polygon):\n",
    "    # Overriding the abstract method\n",
    "    def noofsides(self):\n",
    "        print(\"I have 4 sides\")\n",
    "\n",
    "\n",
    "R = Triangle()\n",
    "R.noofsides()  # Output: I have 3 sides\n",
    "\n",
    "k = Quadrilateral()\n",
    "k.noofsides()\n",
    "\n",
    "p = Pentagon()\n",
    "p.noofsides()\n",
    "\n",
    "d = Hexagon()\n",
    "d.noofsides()"
   ]
  }
 ],
 "metadata": {
  "kernelspec": {
   "display_name": "Python 3",
   "language": "python",
   "name": "python3"
  },
  "language_info": {
   "codemirror_mode": {
    "name": "ipython",
    "version": 3
   },
   "file_extension": ".py",
   "mimetype": "text/x-python",
   "name": "python",
   "nbconvert_exporter": "python",
   "pygments_lexer": "ipython3",
   "version": "3.12.2"
  }
 },
 "nbformat": 4,
 "nbformat_minor": 2
}
