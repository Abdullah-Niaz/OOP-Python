{
 "cells": [
  {
   "cell_type": "markdown",
   "metadata": {},
   "source": [
    "# Abstraction:\n",
    "Abstraction is the concept of hiding the complex implementation details and showing only the necessary features of an object. This helps in reduing programming complexity and efforts"
   ]
  },
  {
   "cell_type": "code",
   "execution_count": 6,
   "metadata": {},
   "outputs": [
    {
     "name": "stdout",
     "output_type": "stream",
     "text": [
      "I have 3 sides\n",
      "I have 4 sides\n",
      "I have 5 sides\n",
      "I have 8 sides\n"
     ]
    }
   ],
   "source": [
    "from abc import ABC, abstractmethod\n",
    "\n",
    "\n",
    "class Polygon(ABC):\n",
    "    @abstractmethod\n",
    "    def noofsides(self):\n",
    "        pass\n",
    "\n",
    "\n",
    "class Triangle(Polygon):\n",
    "    # Overriding the abstract method\n",
    "    def noofsides(self):\n",
    "        print(\"I have 3 sides\")\n",
    "\n",
    "\n",
    "class Pentagon(Polygon):\n",
    "    # Overriding the abstract method\n",
    "    def noofsides(self):\n",
    "        print(\"I have 5 sides\")\n",
    "\n",
    "\n",
    "class Hexagon(Polygon):\n",
    "    # Overriding the abstract method\n",
    "    def noofsides(self):\n",
    "        print(\"I have 8 sides\")\n",
    "\n",
    "\n",
    "class Quadrilateral(Polygon):\n",
    "    # Overriding the abstract method\n",
    "    def noofsides(self):\n",
    "        print(\"I have 4 sides\")\n",
    "\n",
    "\n",
    "R = Triangle()\n",
    "R.noofsides()  # Output: I have 3 sides\n",
    "\n",
    "k = Quadrilateral()\n",
    "k.noofsides()\n",
    "\n",
    "p = Pentagon()\n",
    "p.noofsides()\n",
    "\n",
    "d = Hexagon()\n",
    "d.noofsides()"
   ]
  },
  {
   "cell_type": "code",
   "execution_count": 7,
   "metadata": {},
   "outputs": [
    {
     "name": "stdout",
     "output_type": "stream",
     "text": [
      "I can walk and run\n",
      "I can crawl\n",
      "I can bark\n",
      "I can roar\n"
     ]
    }
   ],
   "source": [
    "# Python program showing\n",
    "# abstract base class work\n",
    "from abc import ABC, abstractmethod\n",
    "\n",
    "\n",
    "class Animal(ABC):\n",
    "\n",
    "    def move(self):\n",
    "        pass\n",
    "\n",
    "\n",
    "class Human(Animal):\n",
    "\n",
    "    def move(self):\n",
    "        print(\"I can walk and run\")\n",
    "\n",
    "\n",
    "class Snake(Animal):\n",
    "\n",
    "    def move(self):\n",
    "        print(\"I can crawl\")\n",
    "\n",
    "\n",
    "class Dog(Animal):\n",
    "\n",
    "    def move(self):\n",
    "        print(\"I can bark\")\n",
    "\n",
    "\n",
    "class Lion(Animal):\n",
    "\n",
    "    def move(self):\n",
    "        print(\"I can roar\")\n",
    "\n",
    "\n",
    "# Driver code\n",
    "R = Human()\n",
    "R.move()\n",
    "\n",
    "K = Snake()\n",
    "K.move()\n",
    "\n",
    "R = Dog()\n",
    "R.move()\n",
    "\n",
    "K = Lion()\n",
    "K.move()"
   ]
  },
  {
   "cell_type": "code",
   "execution_count": 8,
   "metadata": {},
   "outputs": [
    {
     "name": "stdout",
     "output_type": "stream",
     "text": [
      "True\n",
      "True\n"
     ]
    }
   ],
   "source": [
    "# Python program showing\n",
    "# implementation of abstract\n",
    "# class through subclassing\n",
    "import abc\n",
    "\n",
    "\n",
    "class parent:\n",
    "    def geeks(self):\n",
    "        pass\n",
    "\n",
    "\n",
    "class child(parent):\n",
    "    def geeks(self):\n",
    "        print(\"child class\")\n",
    "\n",
    "\n",
    "# Driver code\n",
    "print(issubclass(child, parent))\n",
    "print(isinstance(child(), parent))"
   ]
  },
  {
   "cell_type": "code",
   "execution_count": 9,
   "metadata": {},
   "outputs": [
    {
     "name": "stdout",
     "output_type": "stream",
     "text": [
      "Abstract Base Class\n",
      "subclass \n"
     ]
    }
   ],
   "source": [
    "# Python program invoking a\n",
    "# method using super()\n",
    "from abc import ABC\n",
    "\n",
    "\n",
    "class R(ABC):\n",
    "    def rk(self):\n",
    "        print(\"Abstract Base Class\")\n",
    "\n",
    "\n",
    "class K(R):\n",
    "    def rk(self):\n",
    "        super().rk()\n",
    "        print(\"subclass \")\n",
    "\n",
    "\n",
    "# Driver code\n",
    "r = K()\n",
    "r.rk()"
   ]
  }
 ],
 "metadata": {
  "kernelspec": {
   "display_name": "Python 3",
   "language": "python",
   "name": "python3"
  },
  "language_info": {
   "codemirror_mode": {
    "name": "ipython",
    "version": 3
   },
   "file_extension": ".py",
   "mimetype": "text/x-python",
   "name": "python",
   "nbconvert_exporter": "python",
   "pygments_lexer": "ipython3",
   "version": "3.12.2"
  }
 },
 "nbformat": 4,
 "nbformat_minor": 2
}
