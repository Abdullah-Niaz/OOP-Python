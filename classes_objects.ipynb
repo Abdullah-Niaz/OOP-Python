{
 "cells": [
  {
   "cell_type": "markdown",
   "metadata": {},
   "source": [
    "# Classes & Objects"
   ]
  },
  {
   "cell_type": "markdown",
   "metadata": {},
   "source": [
    "Classess are blue print for objects"
   ]
  },
  {
   "cell_type": "code",
   "execution_count": 3,
   "metadata": {},
   "outputs": [
    {
     "name": "stdout",
     "output_type": "stream",
     "text": [
      "<__main__.Car object at 0x00000276CFE517C0>\n"
     ]
    }
   ],
   "source": [
    "class Car:\n",
    "    pass\n",
    "\n",
    "audi = Car()\n",
    "print(audi)"
   ]
  },
  {
   "cell_type": "markdown",
   "metadata": {},
   "source": [
    "### Attributes \n",
    "    1. Convetional Way \n",
    "    2. Modern Way"
   ]
  },
  {
   "cell_type": "code",
   "execution_count": 8,
   "metadata": {},
   "outputs": [
    {
     "name": "stdout",
     "output_type": "stream",
     "text": [
      "Color of Car is: white, Price: 200000, Model: Audi\n"
     ]
    }
   ],
   "source": [
    "#  Conventional Way\n",
    "class Car:\n",
    "    pass\n",
    "\n",
    "Car.color = \"white\"\n",
    "Car.price = 200000\n",
    "Car.model = \"Audi\"\n",
    "\n",
    "audi = Car()\n",
    "print(f'Color of Car is: {audi.color}, Price: {audi.price}, Model: {audi.model}')"
   ]
  },
  {
   "cell_type": "code",
   "execution_count": 17,
   "metadata": {},
   "outputs": [
    {
     "name": "stdout",
     "output_type": "stream",
     "text": [
      "4\n",
      "4\n",
      "V8\n",
      "Red\n"
     ]
    }
   ],
   "source": [
    "# Modern Way\n",
    "# Hard Codeed Attributes\n",
    "class Car:\n",
    "    def __init__(self):\n",
    "        self.wheels = 4\n",
    "        self.doors = 4\n",
    "        self.engine = \"V8\"\n",
    "        self.color = \"Red\"\n",
    "\n",
    "\n",
    "audi = Car()\n",
    "print(audi.wheels)\n",
    "print(audi.doors)\n",
    "print(audi.engine)\n",
    "print(audi.color)"
   ]
  },
  {
   "cell_type": "code",
   "execution_count": 32,
   "metadata": {},
   "outputs": [
    {
     "name": "stdout",
     "output_type": "stream",
     "text": [
      "Car started\n"
     ]
    }
   ],
   "source": [
    "class Car:\n",
    "    def __init__(self,wheels,door,engine,color):\n",
    "        # Private attributes\n",
    "        self.__wheels = wheels\n",
    "        self.__doors = door\n",
    "        self.__engine = engine\n",
    "        self.__color = color\n",
    "\n",
    "    # Magic Method \n",
    "    def string(self) -> str:\n",
    "        return (f'{self.__wheels}, {self.__doors}, Model: {self.__engine}, {self.__color}')\n",
    "\n",
    "\n",
    "    def start(self):\n",
    "        return \"Car started\"\n",
    "\n",
    "\n",
    "audi  = Car(4,4,\"V8\",\"Black\")\n",
    "print(audi.start())"
   ]
  },
  {
   "cell_type": "code",
   "execution_count": 43,
   "metadata": {},
   "outputs": [],
   "source": [
    "# Modeling a Bank\n",
    "class Bank:\n",
    "    def __init__(self,owner, balance = 0) :\n",
    "        self.owner = owner\n",
    "        self.balance = balance\n",
    "\n",
    "    def deposit(self,amount):\n",
    "        self.balance += amount\n",
    "        print(f'{amount} ,is deposited. New balance is {self.balance}')\n",
    "\n",
    "    def withDraw(self,amount):\n",
    "        if amount > self.balance:\n",
    "            print(\"insufficient Balance \")\n",
    "        else:\n",
    "            self.balance -=amount\n",
    "            print(f\"{amount} withdrawn. New balance is: {self.balance}\")\n",
    "\n",
    "    def get_balance(self):\n",
    "        return self.balance\n",
    "    \n",
    "omer = Bank(\"omer\",2000)"
   ]
  },
  {
   "cell_type": "code",
   "execution_count": 44,
   "metadata": {},
   "outputs": [
    {
     "name": "stdout",
     "output_type": "stream",
     "text": [
      "12000 ,is deposited. New balance is 14000\n"
     ]
    }
   ],
   "source": [
    "omer.deposit(12000)"
   ]
  },
  {
   "cell_type": "code",
   "execution_count": 45,
   "metadata": {},
   "outputs": [
    {
     "name": "stdout",
     "output_type": "stream",
     "text": [
      "3000 withdrawn. New balance is: 11000\n"
     ]
    }
   ],
   "source": [
    "omer.withDraw(3000) "
   ]
  },
  {
   "cell_type": "code",
   "execution_count": 47,
   "metadata": {},
   "outputs": [
    {
     "data": {
      "text/plain": [
       "11000"
      ]
     },
     "execution_count": 47,
     "metadata": {},
     "output_type": "execute_result"
    }
   ],
   "source": [
    "omer.get_balance()"
   ]
  }
 ],
 "metadata": {
  "kernelspec": {
   "display_name": "Python 3",
   "language": "python",
   "name": "python3"
  },
  "language_info": {
   "codemirror_mode": {
    "name": "ipython",
    "version": 3
   },
   "file_extension": ".py",
   "mimetype": "text/x-python",
   "name": "python",
   "nbconvert_exporter": "python",
   "pygments_lexer": "ipython3",
   "version": "3.12.2"
  }
 },
 "nbformat": 4,
 "nbformat_minor": 2
}
