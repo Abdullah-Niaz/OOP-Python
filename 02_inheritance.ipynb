{
 "cells": [
  {
   "cell_type": "markdown",
   "metadata": {},
   "source": [
    "# Inheritance in Python\n",
    "Inheritance is a mechanism in object-oriented programming (OOP) that allows one class to inherit attributes and methods from another class.\n",
    "The inheriting class is called the subclass or derived class, and the class from which it inherits\n",
    "is called the superclass or base class.\n"
   ]
  },
  {
   "cell_type": "code",
   "execution_count": 2,
   "metadata": {},
   "outputs": [],
   "source": [
    "# single inheritance\n",
    "# Parent Class\n",
    "class Car:\n",
    "    def __init__(self,windows,doors,enginetype):\n",
    "        self.windows = windows\n",
    "        self.doors = doors\n",
    "        self.enginetype = enginetype\n",
    "\n",
    "    def drive(self):\n",
    "        print(f\"The Person is driving {self.enginetype} car\")\n"
   ]
  },
  {
   "cell_type": "code",
   "execution_count": 4,
   "metadata": {},
   "outputs": [
    {
     "name": "stdout",
     "output_type": "stream",
     "text": [
      "The Person is driving Petrol car\n"
     ]
    }
   ],
   "source": [
    "car1 = Car(2,2,\"Petrol\")\n",
    "car1.drive()"
   ]
  },
  {
   "cell_type": "code",
   "execution_count": 5,
   "metadata": {},
   "outputs": [],
   "source": [
    "class Tesla(Car):\n",
    "    def __init__(self, windows, doors, enginetype,is_selfdriving):\n",
    "        super().__init__(windows, doors, enginetype)\n",
    "        self.is_selfdriving = is_selfdriving\n",
    "\n",
    "    def selfdriving(self):\n",
    "        print(f\"Tesla supports self driving: {self.is_selfdriving}\")"
   ]
  },
  {
   "cell_type": "code",
   "execution_count": 10,
   "metadata": {},
   "outputs": [
    {
     "name": "stdout",
     "output_type": "stream",
     "text": [
      "The Person is driving electric car\n",
      "Tesla supports self driving: True\n"
     ]
    }
   ],
   "source": [
    "tesla1 = Tesla(2,2,'electric',True)\n",
    "tesla1.drive()\n",
    "tesla1.selfdriving()"
   ]
  },
  {
   "cell_type": "markdown",
   "metadata": {},
   "source": [
    "## Multiple Inheritance\n",
    "When a class inherits more than one class."
   ]
  },
  {
   "cell_type": "code",
   "execution_count": 14,
   "metadata": {},
   "outputs": [],
   "source": [
    "# Base Class 1\n",
    "class Animal:\n",
    "    def __init__(self, name):\n",
    "        self.name = name\n",
    "\n",
    "    def speak(self):\n",
    "        print(\"subclass must implement this method\")\n",
    "\n",
    "\n",
    "# Base Class 2\n",
    "class Pet:\n",
    "    def __init__(self,owner) :\n",
    "        self.owner = owner\n",
    "\n",
    "# Derived Class \n",
    "class Dog(Animal,Pet):\n",
    "    def __init__(self, name, owner):\n",
    "        Animal.__init__(self, name)\n",
    "        Pet.__init__(self,owner)\n",
    "    \n",
    "    def speak(self):\n",
    "        return f\"{self.name} say woof\"\n"
   ]
  },
  {
   "cell_type": "code",
   "execution_count": 19,
   "metadata": {},
   "outputs": [
    {
     "name": "stdout",
     "output_type": "stream",
     "text": [
      "Krish\n",
      "Jona\n"
     ]
    },
    {
     "data": {
      "text/plain": [
       "'Jona say woof'"
      ]
     },
     "execution_count": 19,
     "metadata": {},
     "output_type": "execute_result"
    }
   ],
   "source": [
    "dog = Dog(\"Jona\",\"Krish\")\n",
    "print(dog.name)\n",
    "print(dog.owner)\n",
    "dog.speak()"
   ]
  }
 ],
 "metadata": {
  "kernelspec": {
   "display_name": "Python 3",
   "language": "python",
   "name": "python3"
  },
  "language_info": {
   "codemirror_mode": {
    "name": "ipython",
    "version": 3
   },
   "file_extension": ".py",
   "mimetype": "text/x-python",
   "name": "python",
   "nbconvert_exporter": "python",
   "pygments_lexer": "ipython3",
   "version": "3.12.2"
  }
 },
 "nbformat": 4,
 "nbformat_minor": 2
}
